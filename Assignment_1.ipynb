{
 "cells": [
  {
   "cell_type": "code",
   "execution_count": 1,
   "metadata": {},
   "outputs": [
    {
     "name": "stdout",
     "output_type": "stream",
     "text": [
      "Twinkle, twinkle, little star,\n",
      "      How I wonder what you are!\n",
      "            Up above the world so high,\n",
      "            Like a diamond in the sky.\n",
      "Twinkle, twinkle, little star,\n",
      "     How I wonder what you are!\n"
     ]
    }
   ],
   "source": [
    "print('Twinkle, twinkle, little star,')\n",
    "print ('      How I wonder what you are!')\n",
    "print('            Up above the world so high,')\n",
    "print('            Like a diamond in the sky.')\n",
    "print('Twinkle, twinkle, little star,')\n",
    "print ('     How I wonder what you are!')"
   ]
  },
  {
   "cell_type": "code",
   "execution_count": 2,
   "metadata": {},
   "outputs": [
    {
     "name": "stdout",
     "output_type": "stream",
     "text": [
      "3.7.4\n"
     ]
    }
   ],
   "source": [
    "# task 2\n",
    "from platform import python_version\n",
    "print(python_version())"
   ]
  },
  {
   "cell_type": "code",
   "execution_count": 3,
   "metadata": {},
   "outputs": [
    {
     "name": "stdout",
     "output_type": "stream",
     "text": [
      "Current date and time: \n",
      "2019-11-04  21:53:53\n"
     ]
    }
   ],
   "source": [
    "#task 3\n",
    "import datetime\n",
    "date_time= datetime.datetime.now()\n",
    "print(\"Current date and time: \")\n",
    "print(date_time.strftime('%Y-%m-%d  %H:%M:%S'))"
   ]
  },
  {
   "cell_type": "code",
   "execution_count": null,
   "metadata": {},
   "outputs": [],
   "source": []
  },
  {
   "cell_type": "code",
   "execution_count": 4,
   "metadata": {},
   "outputs": [
    {
     "name": "stdout",
     "output_type": "stream",
     "text": [
      "Enter the radius: 5\n",
      "78.55\n"
     ]
    }
   ],
   "source": [
    "#task 4\n",
    "pi=3.142\n",
    "radius = float(input(\"Enter the radius: \"))\n",
    "area= pi* radius* radius\n",
    "print(area)"
   ]
  },
  {
   "cell_type": "code",
   "execution_count": 5,
   "metadata": {},
   "outputs": [
    {
     "name": "stdout",
     "output_type": "stream",
     "text": [
      "Enter your first name: Mehdi\n",
      "Enter your last namehaider\n",
      "Your name in the reverse order to be: \n",
      "haider Mehdi\n"
     ]
    }
   ],
   "source": [
    "#task 5\n",
    "a= input(\"Enter your first name: \")\n",
    "b= input( \"Enter your last name\")\n",
    "print(\"Your name in the reverse order to be: \")\n",
    "c= b+\" \"+a\n",
    "print(c)"
   ]
  },
  {
   "cell_type": "code",
   "execution_count": 6,
   "metadata": {},
   "outputs": [
    {
     "ename": "SyntaxError",
     "evalue": "invalid syntax (<ipython-input-6-53b8f6527609>, line 3)",
     "output_type": "error",
     "traceback": [
      "\u001b[1;36m  File \u001b[1;32m\"<ipython-input-6-53b8f6527609>\"\u001b[1;36m, line \u001b[1;32m3\u001b[0m\n\u001b[1;33m    b= float(input(Enter second number: ))\u001b[0m\n\u001b[1;37m                              ^\u001b[0m\n\u001b[1;31mSyntaxError\u001b[0m\u001b[1;31m:\u001b[0m invalid syntax\n"
     ]
    }
   ],
   "source": [
    "#task 6\n",
    "a= float(input(\"Enter first number: \"))\n",
    "b= float(input(Enter second number: ))\n",
    "c= a+b\n",
    "print(C)"
   ]
  },
  {
   "cell_type": "code",
   "execution_count": 8,
   "metadata": {},
   "outputs": [
    {
     "name": "stdout",
     "output_type": "stream",
     "text": [
      "Enter first number: 5\n",
      "Enter second number: 2\n",
      "7.0\n"
     ]
    }
   ],
   "source": [
    "#task 6\n",
    "a= float(input(\"Enter first number: \"))\n",
    "b= float(input(\"Enter second number: \"))\n",
    "c= a+b\n",
    "print(c)"
   ]
  },
  {
   "cell_type": "code",
   "execution_count": null,
   "metadata": {},
   "outputs": [],
   "source": []
  }
 ],
 "metadata": {
  "kernelspec": {
   "display_name": "Python 3",
   "language": "python",
   "name": "python3"
  },
  "language_info": {
   "codemirror_mode": {
    "name": "ipython",
    "version": 3
   },
   "file_extension": ".py",
   "mimetype": "text/x-python",
   "name": "python",
   "nbconvert_exporter": "python",
   "pygments_lexer": "ipython3",
   "version": "3.7.4"
  }
 },
 "nbformat": 4,
 "nbformat_minor": 2
}
